{
 "cells": [
  {
   "cell_type": "markdown",
   "id": "da9c715c-2195-4322-a820-6d3ff98b0389",
   "metadata": {},
   "source": [
    "### IMPORTING THE PYTHON MODULES"
   ]
  },
  {
   "cell_type": "code",
   "execution_count": 1,
   "id": "82d5ffee-0fd2-493e-a0b0-07bc7ff15d15",
   "metadata": {},
   "outputs": [],
   "source": [
    "import pandas as pd \n",
    "import numpy as np\n",
    "import seaborn as sns\n",
    "import matplotlib.pyplot as plt\n",
    "%matplotlib inline\n",
    "from sklearn import preprocessing\n",
    "from sklearn.preprocessing import LabelEncoder\n",
    "from sklearn.preprocessing import OneHotEncoder\n",
    "from sklearn.linear_model import LogisticRegression\n",
    "from sklearn.metrics import accuracy_score\n",
    "from sklearn import metrics\n",
    "from imblearn.over_sampling import SMOTE\n",
    "from time import time\n",
    "import warnings\n",
    "warnings.filterwarnings('ignore')"
   ]
  },
  {
   "cell_type": "markdown",
   "id": "cb27226f-f3c3-463f-9fe0-b84ad7142b48",
   "metadata": {},
   "source": [
    "### READING THE DATA FILES"
   ]
  },
  {
   "cell_type": "code",
   "execution_count": 4,
   "id": "7b9f9ebc-ceab-455b-b55c-1f033837988c",
   "metadata": {},
   "outputs": [],
   "source": [
    "data= pd.read_csv('Consumer_Complaints_train.csv')\n",
    "data_test= pd.read_csv('Consumer_Complaints_test_share.csv')"
   ]
  },
  {
   "cell_type": "code",
   "execution_count": 5,
   "id": "612330ef-e389-46e4-91f3-c5f1c06a03ee",
   "metadata": {},
   "outputs": [
    {
     "name": "stdout",
     "output_type": "stream",
     "text": [
      "Train dataset:  (478421, 18) \n",
      "\n",
      "Test dataset: (119606, 17)\n"
     ]
    }
   ],
   "source": [
    "print('Train dataset: ',data.shape,'\\n')\n",
    "print('Test dataset:',data_test.shape)"
   ]
  },
  {
   "cell_type": "code",
   "execution_count": 8,
   "id": "0f942408-e549-4f90-90c2-4410f0199e16",
   "metadata": {},
   "outputs": [
    {
     "data": {
      "text/plain": [
       "Index(['Date received', 'Product', 'Sub-product', 'Issue', 'Sub-issue',\n",
       "       'Consumer complaint narrative', 'Company public response', 'Company',\n",
       "       'State', 'ZIP code', 'Tags', 'Consumer consent provided?',\n",
       "       'Submitted via', 'Date sent to company', 'Company response to consumer',\n",
       "       'Timely response?', 'Consumer disputed?', 'Complaint ID'],\n",
       "      dtype='object')"
      ]
     },
     "execution_count": 8,
     "metadata": {},
     "output_type": "execute_result"
    }
   ],
   "source": [
    "data.columns  # COLUMN NAMES OF TRAINING DATASET"
   ]
  },
  {
   "cell_type": "code",
   "execution_count": 10,
   "id": "f3969d78-cd0e-4856-8e9c-d850f0b9c40c",
   "metadata": {},
   "outputs": [
    {
     "data": {
      "text/plain": [
       "Index(['Date received', 'Product', 'Sub-product', 'Issue', 'Sub-issue',\n",
       "       'Consumer complaint narrative', 'Company public response', 'Company',\n",
       "       'State', 'ZIP code', 'Tags', 'Consumer consent provided?',\n",
       "       'Submitted via', 'Date sent to company', 'Company response to consumer',\n",
       "       'Timely response?', 'Complaint ID'],\n",
       "      dtype='object')"
      ]
     },
     "execution_count": 10,
     "metadata": {},
     "output_type": "execute_result"
    }
   ],
   "source": [
    "data_test.columns   # COLUMN NAMES OF TEST DATASET"
   ]
  },
  {
   "cell_type": "code",
   "execution_count": 12,
   "id": "ec04217a-6c9d-4a02-adcd-e8b72fd179ed",
   "metadata": {},
   "outputs": [
    {
     "data": {
      "text/html": [
       "<div>\n",
       "<style scoped>\n",
       "    .dataframe tbody tr th:only-of-type {\n",
       "        vertical-align: middle;\n",
       "    }\n",
       "\n",
       "    .dataframe tbody tr th {\n",
       "        vertical-align: top;\n",
       "    }\n",
       "\n",
       "    .dataframe thead th {\n",
       "        text-align: right;\n",
       "    }\n",
       "</style>\n",
       "<table border=\"1\" class=\"dataframe\">\n",
       "  <thead>\n",
       "    <tr style=\"text-align: right;\">\n",
       "      <th></th>\n",
       "      <th>Date received</th>\n",
       "      <th>Product</th>\n",
       "      <th>Sub-product</th>\n",
       "      <th>Issue</th>\n",
       "      <th>Sub-issue</th>\n",
       "      <th>Consumer complaint narrative</th>\n",
       "      <th>Company public response</th>\n",
       "      <th>Company</th>\n",
       "      <th>State</th>\n",
       "      <th>ZIP code</th>\n",
       "      <th>Tags</th>\n",
       "      <th>Consumer consent provided?</th>\n",
       "      <th>Submitted via</th>\n",
       "      <th>Date sent to company</th>\n",
       "      <th>Company response to consumer</th>\n",
       "      <th>Timely response?</th>\n",
       "      <th>Consumer disputed?</th>\n",
       "      <th>Complaint ID</th>\n",
       "    </tr>\n",
       "  </thead>\n",
       "  <tbody>\n",
       "    <tr>\n",
       "      <th>0</th>\n",
       "      <td>2014-05-15</td>\n",
       "      <td>Credit card</td>\n",
       "      <td>NaN</td>\n",
       "      <td>Billing statement</td>\n",
       "      <td>NaN</td>\n",
       "      <td>NaN</td>\n",
       "      <td>NaN</td>\n",
       "      <td>Wells Fargo &amp; Company</td>\n",
       "      <td>MI</td>\n",
       "      <td>48342</td>\n",
       "      <td>Older American</td>\n",
       "      <td>NaN</td>\n",
       "      <td>Web</td>\n",
       "      <td>2014-05-16</td>\n",
       "      <td>Closed with explanation</td>\n",
       "      <td>Yes</td>\n",
       "      <td>No</td>\n",
       "      <td>856103</td>\n",
       "    </tr>\n",
       "    <tr>\n",
       "      <th>1</th>\n",
       "      <td>2014-09-18</td>\n",
       "      <td>Bank account or service</td>\n",
       "      <td>(CD) Certificate of deposit</td>\n",
       "      <td>Making/receiving payments, sending money</td>\n",
       "      <td>NaN</td>\n",
       "      <td>NaN</td>\n",
       "      <td>NaN</td>\n",
       "      <td>Santander Bank US</td>\n",
       "      <td>PA</td>\n",
       "      <td>18042</td>\n",
       "      <td>NaN</td>\n",
       "      <td>NaN</td>\n",
       "      <td>Referral</td>\n",
       "      <td>2014-09-24</td>\n",
       "      <td>Closed</td>\n",
       "      <td>Yes</td>\n",
       "      <td>No</td>\n",
       "      <td>1034666</td>\n",
       "    </tr>\n",
       "    <tr>\n",
       "      <th>2</th>\n",
       "      <td>2014-03-13</td>\n",
       "      <td>Credit reporting</td>\n",
       "      <td>NaN</td>\n",
       "      <td>Incorrect information on credit report</td>\n",
       "      <td>Account status</td>\n",
       "      <td>NaN</td>\n",
       "      <td>NaN</td>\n",
       "      <td>Equifax</td>\n",
       "      <td>CA</td>\n",
       "      <td>92427</td>\n",
       "      <td>NaN</td>\n",
       "      <td>NaN</td>\n",
       "      <td>Referral</td>\n",
       "      <td>2014-04-03</td>\n",
       "      <td>Closed with non-monetary relief</td>\n",
       "      <td>Yes</td>\n",
       "      <td>No</td>\n",
       "      <td>756363</td>\n",
       "    </tr>\n",
       "    <tr>\n",
       "      <th>3</th>\n",
       "      <td>2015-07-17</td>\n",
       "      <td>Credit card</td>\n",
       "      <td>NaN</td>\n",
       "      <td>Billing statement</td>\n",
       "      <td>NaN</td>\n",
       "      <td>My credit card statement from US Bank, XXXX. X...</td>\n",
       "      <td>Company chooses not to provide a public response</td>\n",
       "      <td>U.S. Bancorp</td>\n",
       "      <td>GA</td>\n",
       "      <td>305XX</td>\n",
       "      <td>Older American</td>\n",
       "      <td>Consent provided</td>\n",
       "      <td>Web</td>\n",
       "      <td>2015-07-17</td>\n",
       "      <td>Closed with monetary relief</td>\n",
       "      <td>Yes</td>\n",
       "      <td>No</td>\n",
       "      <td>1474177</td>\n",
       "    </tr>\n",
       "    <tr>\n",
       "      <th>4</th>\n",
       "      <td>2014-11-20</td>\n",
       "      <td>Credit card</td>\n",
       "      <td>NaN</td>\n",
       "      <td>Transaction issue</td>\n",
       "      <td>NaN</td>\n",
       "      <td>NaN</td>\n",
       "      <td>NaN</td>\n",
       "      <td>Bank of America</td>\n",
       "      <td>MA</td>\n",
       "      <td>02127</td>\n",
       "      <td>NaN</td>\n",
       "      <td>NaN</td>\n",
       "      <td>Web</td>\n",
       "      <td>2014-11-28</td>\n",
       "      <td>Closed with explanation</td>\n",
       "      <td>Yes</td>\n",
       "      <td>No</td>\n",
       "      <td>1132572</td>\n",
       "    </tr>\n",
       "  </tbody>\n",
       "</table>\n",
       "</div>"
      ],
      "text/plain": [
       "  Date received                  Product                  Sub-product  \\\n",
       "0    2014-05-15              Credit card                          NaN   \n",
       "1    2014-09-18  Bank account or service  (CD) Certificate of deposit   \n",
       "2    2014-03-13         Credit reporting                          NaN   \n",
       "3    2015-07-17              Credit card                          NaN   \n",
       "4    2014-11-20              Credit card                          NaN   \n",
       "\n",
       "                                      Issue       Sub-issue  \\\n",
       "0                         Billing statement             NaN   \n",
       "1  Making/receiving payments, sending money             NaN   \n",
       "2    Incorrect information on credit report  Account status   \n",
       "3                         Billing statement             NaN   \n",
       "4                         Transaction issue             NaN   \n",
       "\n",
       "                        Consumer complaint narrative  \\\n",
       "0                                                NaN   \n",
       "1                                                NaN   \n",
       "2                                                NaN   \n",
       "3  My credit card statement from US Bank, XXXX. X...   \n",
       "4                                                NaN   \n",
       "\n",
       "                            Company public response                Company  \\\n",
       "0                                               NaN  Wells Fargo & Company   \n",
       "1                                               NaN      Santander Bank US   \n",
       "2                                               NaN                Equifax   \n",
       "3  Company chooses not to provide a public response           U.S. Bancorp   \n",
       "4                                               NaN        Bank of America   \n",
       "\n",
       "  State ZIP code            Tags Consumer consent provided? Submitted via  \\\n",
       "0    MI    48342  Older American                        NaN           Web   \n",
       "1    PA    18042             NaN                        NaN      Referral   \n",
       "2    CA    92427             NaN                        NaN      Referral   \n",
       "3    GA    305XX  Older American           Consent provided           Web   \n",
       "4    MA    02127             NaN                        NaN           Web   \n",
       "\n",
       "  Date sent to company     Company response to consumer Timely response?  \\\n",
       "0           2014-05-16          Closed with explanation              Yes   \n",
       "1           2014-09-24                           Closed              Yes   \n",
       "2           2014-04-03  Closed with non-monetary relief              Yes   \n",
       "3           2015-07-17      Closed with monetary relief              Yes   \n",
       "4           2014-11-28          Closed with explanation              Yes   \n",
       "\n",
       "  Consumer disputed?  Complaint ID  \n",
       "0                 No        856103  \n",
       "1                 No       1034666  \n",
       "2                 No        756363  \n",
       "3                 No       1474177  \n",
       "4                 No       1132572  "
      ]
     },
     "execution_count": 12,
     "metadata": {},
     "output_type": "execute_result"
    }
   ],
   "source": [
    "data.head() #TOP 5 VALUES OF DATASET"
   ]
  },
  {
   "cell_type": "code",
   "execution_count": 14,
   "id": "d4f64309-37db-40e4-a7c4-bcfea1cce25e",
   "metadata": {},
   "outputs": [
    {
     "data": {
      "text/html": [
       "<div>\n",
       "<style scoped>\n",
       "    .dataframe tbody tr th:only-of-type {\n",
       "        vertical-align: middle;\n",
       "    }\n",
       "\n",
       "    .dataframe tbody tr th {\n",
       "        vertical-align: top;\n",
       "    }\n",
       "\n",
       "    .dataframe thead th {\n",
       "        text-align: right;\n",
       "    }\n",
       "</style>\n",
       "<table border=\"1\" class=\"dataframe\">\n",
       "  <thead>\n",
       "    <tr style=\"text-align: right;\">\n",
       "      <th></th>\n",
       "      <th>Date received</th>\n",
       "      <th>Product</th>\n",
       "      <th>Sub-product</th>\n",
       "      <th>Issue</th>\n",
       "      <th>Sub-issue</th>\n",
       "      <th>Consumer complaint narrative</th>\n",
       "      <th>Company public response</th>\n",
       "      <th>Company</th>\n",
       "      <th>State</th>\n",
       "      <th>ZIP code</th>\n",
       "      <th>Tags</th>\n",
       "      <th>Consumer consent provided?</th>\n",
       "      <th>Submitted via</th>\n",
       "      <th>Date sent to company</th>\n",
       "      <th>Company response to consumer</th>\n",
       "      <th>Timely response?</th>\n",
       "      <th>Complaint ID</th>\n",
       "    </tr>\n",
       "  </thead>\n",
       "  <tbody>\n",
       "    <tr>\n",
       "      <th>0</th>\n",
       "      <td>2014-01-18</td>\n",
       "      <td>Bank account or service</td>\n",
       "      <td>Cashing a check without an account</td>\n",
       "      <td>Deposits and withdrawals</td>\n",
       "      <td>NaN</td>\n",
       "      <td>NaN</td>\n",
       "      <td>NaN</td>\n",
       "      <td>Bank of America</td>\n",
       "      <td>CA</td>\n",
       "      <td>95691</td>\n",
       "      <td>NaN</td>\n",
       "      <td>NaN</td>\n",
       "      <td>Web</td>\n",
       "      <td>2014-01-17</td>\n",
       "      <td>Closed with explanation</td>\n",
       "      <td>Yes</td>\n",
       "      <td>675956</td>\n",
       "    </tr>\n",
       "    <tr>\n",
       "      <th>1</th>\n",
       "      <td>2016-03-31</td>\n",
       "      <td>Debt collection</td>\n",
       "      <td>Credit card</td>\n",
       "      <td>Cont'd attempts collect debt not owed</td>\n",
       "      <td>Debt was paid</td>\n",
       "      <td>NaN</td>\n",
       "      <td>NaN</td>\n",
       "      <td>National Credit Adjusters, LLC</td>\n",
       "      <td>FL</td>\n",
       "      <td>32086</td>\n",
       "      <td>NaN</td>\n",
       "      <td>Consent not provided</td>\n",
       "      <td>Web</td>\n",
       "      <td>2016-03-31</td>\n",
       "      <td>Closed with explanation</td>\n",
       "      <td>Yes</td>\n",
       "      <td>1858795</td>\n",
       "    </tr>\n",
       "  </tbody>\n",
       "</table>\n",
       "</div>"
      ],
      "text/plain": [
       "  Date received                  Product                         Sub-product  \\\n",
       "0    2014-01-18  Bank account or service  Cashing a check without an account   \n",
       "1    2016-03-31          Debt collection                         Credit card   \n",
       "\n",
       "                                   Issue      Sub-issue  \\\n",
       "0               Deposits and withdrawals            NaN   \n",
       "1  Cont'd attempts collect debt not owed  Debt was paid   \n",
       "\n",
       "  Consumer complaint narrative Company public response  \\\n",
       "0                          NaN                     NaN   \n",
       "1                          NaN                     NaN   \n",
       "\n",
       "                          Company State ZIP code Tags  \\\n",
       "0                 Bank of America    CA    95691  NaN   \n",
       "1  National Credit Adjusters, LLC    FL    32086  NaN   \n",
       "\n",
       "  Consumer consent provided? Submitted via Date sent to company  \\\n",
       "0                        NaN           Web           2014-01-17   \n",
       "1       Consent not provided           Web           2016-03-31   \n",
       "\n",
       "  Company response to consumer Timely response?  Complaint ID  \n",
       "0      Closed with explanation              Yes        675956  \n",
       "1      Closed with explanation              Yes       1858795  "
      ]
     },
     "execution_count": 14,
     "metadata": {},
     "output_type": "execute_result"
    }
   ],
   "source": [
    "data_test.head(2)"
   ]
  },
  {
   "cell_type": "code",
   "execution_count": 16,
   "id": "a6fc63db-cf3a-4e78-b3fd-d8c80aa70db2",
   "metadata": {},
   "outputs": [
    {
     "name": "stdout",
     "output_type": "stream",
     "text": [
      "<class 'pandas.core.frame.DataFrame'>\n",
      "RangeIndex: 478421 entries, 0 to 478420\n",
      "Data columns (total 18 columns):\n",
      " #   Column                        Non-Null Count   Dtype \n",
      "---  ------                        --------------   ----- \n",
      " 0   Date received                 478421 non-null  object\n",
      " 1   Product                       478421 non-null  object\n",
      " 2   Sub-product                   339948 non-null  object\n",
      " 3   Issue                         478421 non-null  object\n",
      " 4   Sub-issue                     185796 non-null  object\n",
      " 5   Consumer complaint narrative  75094 non-null   object\n",
      " 6   Company public response       90392 non-null   object\n",
      " 7   Company                       478421 non-null  object\n",
      " 8   State                         474582 non-null  object\n",
      " 9   ZIP code                      474573 non-null  object\n",
      " 10  Tags                          67206 non-null   object\n",
      " 11  Consumer consent provided?    135487 non-null  object\n",
      " 12  Submitted via                 478421 non-null  object\n",
      " 13  Date sent to company          478421 non-null  object\n",
      " 14  Company response to consumer  478421 non-null  object\n",
      " 15  Timely response?              478421 non-null  object\n",
      " 16  Consumer disputed?            478421 non-null  object\n",
      " 17  Complaint ID                  478421 non-null  int64 \n",
      "dtypes: int64(1), object(17)\n",
      "memory usage: 65.7+ MB\n"
     ]
    }
   ],
   "source": [
    "data.info() #CONCISE SUMMARY OF THE TRAINING DATASET"
   ]
  },
  {
   "cell_type": "code",
   "execution_count": 18,
   "id": "cbfa0a62-6b5b-4d3a-8501-6770c870ad0e",
   "metadata": {},
   "outputs": [
    {
     "name": "stdout",
     "output_type": "stream",
     "text": [
      "<class 'pandas.core.frame.DataFrame'>\n",
      "RangeIndex: 119606 entries, 0 to 119605\n",
      "Data columns (total 17 columns):\n",
      " #   Column                        Non-Null Count   Dtype \n",
      "---  ------                        --------------   ----- \n",
      " 0   Date received                 119606 non-null  object\n",
      " 1   Product                       119606 non-null  object\n",
      " 2   Sub-product                   84854 non-null   object\n",
      " 3   Issue                         119606 non-null  object\n",
      " 4   Sub-issue                     46546 non-null   object\n",
      " 5   Consumer complaint narrative  18557 non-null   object\n",
      " 6   Company public response       22776 non-null   object\n",
      " 7   Company                       119606 non-null  object\n",
      " 8   State                         118681 non-null  object\n",
      " 9   ZIP code                      118680 non-null  object\n",
      " 10  Tags                          16871 non-null   object\n",
      " 11  Consumer consent provided?    33864 non-null   object\n",
      " 12  Submitted via                 119605 non-null  object\n",
      " 13  Date sent to company          119606 non-null  object\n",
      " 14  Company response to consumer  119606 non-null  object\n",
      " 15  Timely response?              119606 non-null  object\n",
      " 16  Complaint ID                  119606 non-null  int64 \n",
      "dtypes: int64(1), object(16)\n",
      "memory usage: 15.5+ MB\n"
     ]
    }
   ],
   "source": [
    "data_test.info()   # CONCISE SUMMARY OF THE TESTING DATASET"
   ]
  },
  {
   "cell_type": "code",
   "execution_count": 20,
   "id": "0947ae92-fbd2-471d-96c1-a4b66150a871",
   "metadata": {},
   "outputs": [],
   "source": [
    "data.rename(columns={'Consumer disputed?':'Target'},inplace=True) #CHANGING THE \"Consumer disputed?\" COLUMN NAME TO\"Target\""
   ]
  },
  {
   "cell_type": "code",
   "execution_count": 22,
   "id": "0fbbcbb1-5a35-4fe3-845b-0595d31daf42",
   "metadata": {},
   "outputs": [
    {
     "data": {
      "text/plain": [
       "Index(['Date received', 'Product', 'Sub-product', 'Issue', 'Sub-issue',\n",
       "       'Consumer complaint narrative', 'Company public response', 'Company',\n",
       "       'State', 'ZIP code', 'Tags', 'Consumer consent provided?',\n",
       "       'Submitted via', 'Date sent to company', 'Company response to consumer',\n",
       "       'Timely response?', 'Target', 'Complaint ID'],\n",
       "      dtype='object')"
      ]
     },
     "execution_count": 22,
     "metadata": {},
     "output_type": "execute_result"
    }
   ],
   "source": [
    "data.columns"
   ]
  },
  {
   "cell_type": "markdown",
   "id": "2ef187c5-6b03-4864-b1cb-8b5616138b06",
   "metadata": {},
   "source": [
    "### LABEL ENCODING \"Target\" COLUMN VALUES"
   ]
  },
  {
   "cell_type": "code",
   "execution_count": 25,
   "id": "feb78f5f-be2e-480c-a3d2-9a8c6df7b887",
   "metadata": {},
   "outputs": [],
   "source": [
    "le= LabelEncoder() #INITIALIZE LABEL ENCODER\n",
    "data['Target']= le.fit_transform(data['Target'])"
   ]
  },
  {
   "cell_type": "code",
   "execution_count": 27,
   "id": "f86c5742-96fe-4ebf-bd11-28231de4dc40",
   "metadata": {},
   "outputs": [],
   "source": [
    "#Pandas to_datetime() CONVERTS THE STRING DATE TIME INTO PYTHON DATE TIME OBJECT\n",
    "\n",
    "data['Date received']=pd.to_datetime(data['Date received'],infer_datetime_format=True)\n",
    "data['Date sent to company']=pd.to_datetime(data['Date sent to company'],infer_datetime_format=True)\n",
    "\n",
    "#pd.to_numeric() FUNCTIONS TO CONVERT A COLUMN INTO A NUMERIC DATA TYPE\n",
    "data['date_difference']=pd.to_numeric((data['Date sent to company']-data['Date received']).dt.days)"
   ]
  },
  {
   "cell_type": "code",
   "execution_count": 29,
   "id": "aad25dbd-2785-4fb4-a253-d90d0080be3b",
   "metadata": {},
   "outputs": [
    {
     "data": {
      "text/plain": [
       "Index(['Date received', 'Product', 'Sub-product', 'Issue', 'Sub-issue',\n",
       "       'Consumer complaint narrative', 'Company public response', 'Company',\n",
       "       'State', 'ZIP code', 'Tags', 'Consumer consent provided?',\n",
       "       'Submitted via', 'Date sent to company', 'Company response to consumer',\n",
       "       'Timely response?', 'Target', 'Complaint ID', 'date_difference'],\n",
       "      dtype='object')"
      ]
     },
     "execution_count": 29,
     "metadata": {},
     "output_type": "execute_result"
    }
   ],
   "source": [
    "data.columns"
   ]
  },
  {
   "cell_type": "code",
   "execution_count": 31,
   "id": "c34a3c13-cc26-44dc-852c-c108bcaba2bd",
   "metadata": {},
   "outputs": [],
   "source": [
    "#SPLITTING THE TRAINING DATESET INTO X_train(INPTU FOR THE MODEL) AND y_train(OUTCOME/LABELS)\n",
    "X_train= data.drop(['Date received','Sub-product','Sub-issue','Consumer complaint narrative','Company public response',\n",
    "                    'Company','ZIP code','Date sent to company','Complaint ID','Target' ],axis=1)\n",
    "y_train= data['Target']"
   ]
  },
  {
   "cell_type": "code",
   "execution_count": 33,
   "id": "64be3f50-5466-4194-bc25-84afb2fd75cf",
   "metadata": {},
   "outputs": [
    {
     "data": {
      "text/plain": [
       "Index(['Product', 'Issue', 'State', 'Tags', 'Consumer consent provided?',\n",
       "       'Submitted via', 'Company response to consumer', 'Timely response?',\n",
       "       'date_difference'],\n",
       "      dtype='object')"
      ]
     },
     "execution_count": 33,
     "metadata": {},
     "output_type": "execute_result"
    }
   ],
   "source": [
    "X_train.columns"
   ]
  },
  {
   "cell_type": "code",
   "execution_count": 35,
   "id": "61212ff0-1c10-4958-bf24-1f2494b5153e",
   "metadata": {},
   "outputs": [
    {
     "data": {
      "text/plain": [
       "Target\n",
       "0    376990\n",
       "1    101431\n",
       "Name: count, dtype: int64"
      ]
     },
     "execution_count": 35,
     "metadata": {},
     "output_type": "execute_result"
    }
   ],
   "source": [
    "#OBTAIN A SERIES CONTAINTING COUNTS OF UNIQUE VALUES\n",
    "y_train.value_counts()"
   ]
  },
  {
   "cell_type": "code",
   "execution_count": 37,
   "id": "ab6a2c06-e673-4afe-8374-31ce629dc293",
   "metadata": {},
   "outputs": [
    {
     "data": {
      "text/html": [
       "<div>\n",
       "<style scoped>\n",
       "    .dataframe tbody tr th:only-of-type {\n",
       "        vertical-align: middle;\n",
       "    }\n",
       "\n",
       "    .dataframe tbody tr th {\n",
       "        vertical-align: top;\n",
       "    }\n",
       "\n",
       "    .dataframe thead th {\n",
       "        text-align: right;\n",
       "    }\n",
       "</style>\n",
       "<table border=\"1\" class=\"dataframe\">\n",
       "  <thead>\n",
       "    <tr style=\"text-align: right;\">\n",
       "      <th></th>\n",
       "      <th>Product</th>\n",
       "      <th>Issue</th>\n",
       "      <th>State</th>\n",
       "      <th>Tags</th>\n",
       "      <th>Consumer consent provided?</th>\n",
       "      <th>Submitted via</th>\n",
       "      <th>Company response to consumer</th>\n",
       "      <th>Timely response?</th>\n",
       "      <th>date_difference</th>\n",
       "    </tr>\n",
       "  </thead>\n",
       "  <tbody>\n",
       "    <tr>\n",
       "      <th>0</th>\n",
       "      <td>Credit card</td>\n",
       "      <td>Billing statement</td>\n",
       "      <td>MI</td>\n",
       "      <td>Older American</td>\n",
       "      <td>NaN</td>\n",
       "      <td>Web</td>\n",
       "      <td>Closed with explanation</td>\n",
       "      <td>Yes</td>\n",
       "      <td>1</td>\n",
       "    </tr>\n",
       "    <tr>\n",
       "      <th>1</th>\n",
       "      <td>Bank account or service</td>\n",
       "      <td>Making/receiving payments, sending money</td>\n",
       "      <td>PA</td>\n",
       "      <td>NaN</td>\n",
       "      <td>NaN</td>\n",
       "      <td>Referral</td>\n",
       "      <td>Closed</td>\n",
       "      <td>Yes</td>\n",
       "      <td>6</td>\n",
       "    </tr>\n",
       "    <tr>\n",
       "      <th>2</th>\n",
       "      <td>Credit reporting</td>\n",
       "      <td>Incorrect information on credit report</td>\n",
       "      <td>CA</td>\n",
       "      <td>NaN</td>\n",
       "      <td>NaN</td>\n",
       "      <td>Referral</td>\n",
       "      <td>Closed with non-monetary relief</td>\n",
       "      <td>Yes</td>\n",
       "      <td>21</td>\n",
       "    </tr>\n",
       "    <tr>\n",
       "      <th>3</th>\n",
       "      <td>Credit card</td>\n",
       "      <td>Billing statement</td>\n",
       "      <td>GA</td>\n",
       "      <td>Older American</td>\n",
       "      <td>Consent provided</td>\n",
       "      <td>Web</td>\n",
       "      <td>Closed with monetary relief</td>\n",
       "      <td>Yes</td>\n",
       "      <td>0</td>\n",
       "    </tr>\n",
       "    <tr>\n",
       "      <th>4</th>\n",
       "      <td>Credit card</td>\n",
       "      <td>Transaction issue</td>\n",
       "      <td>MA</td>\n",
       "      <td>NaN</td>\n",
       "      <td>NaN</td>\n",
       "      <td>Web</td>\n",
       "      <td>Closed with explanation</td>\n",
       "      <td>Yes</td>\n",
       "      <td>8</td>\n",
       "    </tr>\n",
       "  </tbody>\n",
       "</table>\n",
       "</div>"
      ],
      "text/plain": [
       "                   Product                                     Issue State  \\\n",
       "0              Credit card                         Billing statement    MI   \n",
       "1  Bank account or service  Making/receiving payments, sending money    PA   \n",
       "2         Credit reporting    Incorrect information on credit report    CA   \n",
       "3              Credit card                         Billing statement    GA   \n",
       "4              Credit card                         Transaction issue    MA   \n",
       "\n",
       "             Tags Consumer consent provided? Submitted via  \\\n",
       "0  Older American                        NaN           Web   \n",
       "1             NaN                        NaN      Referral   \n",
       "2             NaN                        NaN      Referral   \n",
       "3  Older American           Consent provided           Web   \n",
       "4             NaN                        NaN           Web   \n",
       "\n",
       "      Company response to consumer Timely response?  date_difference  \n",
       "0          Closed with explanation              Yes                1  \n",
       "1                           Closed              Yes                6  \n",
       "2  Closed with non-monetary relief              Yes               21  \n",
       "3      Closed with monetary relief              Yes                0  \n",
       "4          Closed with explanation              Yes                8  "
      ]
     },
     "execution_count": 37,
     "metadata": {},
     "output_type": "execute_result"
    }
   ],
   "source": [
    "X_train.head()"
   ]
  },
  {
   "cell_type": "code",
   "execution_count": 39,
   "id": "a8e8e3dd-d45f-4a38-a0e0-4a581fa206eb",
   "metadata": {},
   "outputs": [
    {
     "data": {
      "text/plain": [
       "Product                              0\n",
       "Issue                                0\n",
       "State                             3839\n",
       "Tags                            411215\n",
       "Consumer consent provided?      342934\n",
       "Submitted via                        0\n",
       "Company response to consumer         0\n",
       "Timely response?                     0\n",
       "date_difference                      0\n",
       "dtype: int64"
      ]
     },
     "execution_count": 39,
     "metadata": {},
     "output_type": "execute_result"
    }
   ],
   "source": [
    "X_train.isnull().sum() #RETURNIN THE NUMBER OF MISSING VALUES  "
   ]
  },
  {
   "cell_type": "code",
   "execution_count": 41,
   "id": "1571a1b6-0d55-482c-a51f-6936e1ab2dca",
   "metadata": {},
   "outputs": [
    {
     "data": {
      "text/plain": [
       "Index(['Product', 'Issue', 'State', 'Tags', 'Consumer consent provided?',\n",
       "       'Submitted via', 'Company response to consumer', 'Timely response?',\n",
       "       'date_difference'],\n",
       "      dtype='object')"
      ]
     },
     "execution_count": 41,
     "metadata": {},
     "output_type": "execute_result"
    }
   ],
   "source": [
    "X_train.columns"
   ]
  },
  {
   "cell_type": "code",
   "execution_count": 43,
   "id": "3c7ee5dc-3cef-4d6f-ad01-4b5e8343bdea",
   "metadata": {},
   "outputs": [],
   "source": [
    "# col_train REPRESENTS THE LIST OF COLUMN NAMES WHICH HAVE NULL VALUES\n",
    "\n",
    "col_train= ['State', 'Tags','Consumer consent provided?']\n",
    "\n",
    "for i in col_train:\n",
    "    if X_train[i].isnull().sum()!= 0:\n",
    "        X_train[i]=X_train[i].fillna(X_train[i].mode()[0])"
   ]
  },
  {
   "cell_type": "code",
   "execution_count": 45,
   "id": "cf518a60-4526-4788-86b5-8ddda554b3ab",
   "metadata": {},
   "outputs": [
    {
     "data": {
      "text/plain": [
       "Product                         0\n",
       "Issue                           0\n",
       "State                           0\n",
       "Tags                            0\n",
       "Consumer consent provided?      0\n",
       "Submitted via                   0\n",
       "Company response to consumer    0\n",
       "Timely response?                0\n",
       "date_difference                 0\n",
       "dtype: int64"
      ]
     },
     "execution_count": 45,
     "metadata": {},
     "output_type": "execute_result"
    }
   ],
   "source": [
    "X_train.isnull().sum()"
   ]
  },
  {
   "cell_type": "markdown",
   "id": "bc51da2f-807d-4b42-b9c0-4cc8e0f55f6d",
   "metadata": {},
   "source": [
    "### ONE-HOT ENCODING "
   ]
  },
  {
   "cell_type": "code",
   "execution_count": 48,
   "id": "6a9a1004-a2f6-4c4f-af84-8c4005e20dcb",
   "metadata": {},
   "outputs": [],
   "source": [
    "import pandas as pd\n",
    "\n",
    "col_train = ['Product','Issue', 'State', 'Tags','Consumer consent provided?', \n",
    "             'Submitted via', 'Company response to consumer','Timely response?']\n",
    "\n",
    "for i in col_train:\n",
    "    if i in X_train.columns:\n",
    "        dummy = pd.get_dummies(X_train[i], prefix=i).astype(int)\n",
    "        dummy = dummy.iloc[:,:-1]\n",
    "        X_train = pd.concat([X_train, dummy], axis=1)\n",
    "        X_train = X_train.drop(columns=[i])"
   ]
  },
  {
   "cell_type": "code",
   "execution_count": 49,
   "id": "7708f5b9-5e13-4067-9905-e233ff0cd049",
   "metadata": {},
   "outputs": [
    {
     "data": {
      "text/html": [
       "<div>\n",
       "<style scoped>\n",
       "    .dataframe tbody tr th:only-of-type {\n",
       "        vertical-align: middle;\n",
       "    }\n",
       "\n",
       "    .dataframe tbody tr th {\n",
       "        vertical-align: top;\n",
       "    }\n",
       "\n",
       "    .dataframe thead th {\n",
       "        text-align: right;\n",
       "    }\n",
       "</style>\n",
       "<table border=\"1\" class=\"dataframe\">\n",
       "  <thead>\n",
       "    <tr style=\"text-align: right;\">\n",
       "      <th></th>\n",
       "      <th>date_difference</th>\n",
       "      <th>Product_Bank account or service</th>\n",
       "      <th>Product_Consumer Loan</th>\n",
       "      <th>Product_Credit card</th>\n",
       "      <th>Product_Credit reporting</th>\n",
       "      <th>Product_Debt collection</th>\n",
       "      <th>Product_Money transfers</th>\n",
       "      <th>Product_Mortgage</th>\n",
       "      <th>Product_Other financial service</th>\n",
       "      <th>Product_Payday loan</th>\n",
       "      <th>...</th>\n",
       "      <th>Submitted via_Phone</th>\n",
       "      <th>Submitted via_Postal mail</th>\n",
       "      <th>Submitted via_Referral</th>\n",
       "      <th>Company response to consumer_Closed</th>\n",
       "      <th>Company response to consumer_Closed with explanation</th>\n",
       "      <th>Company response to consumer_Closed with monetary relief</th>\n",
       "      <th>Company response to consumer_Closed with non-monetary relief</th>\n",
       "      <th>Company response to consumer_Closed with relief</th>\n",
       "      <th>Company response to consumer_Closed without relief</th>\n",
       "      <th>Timely response?_No</th>\n",
       "    </tr>\n",
       "  </thead>\n",
       "  <tbody>\n",
       "    <tr>\n",
       "      <th>0</th>\n",
       "      <td>1</td>\n",
       "      <td>0</td>\n",
       "      <td>0</td>\n",
       "      <td>1</td>\n",
       "      <td>0</td>\n",
       "      <td>0</td>\n",
       "      <td>0</td>\n",
       "      <td>0</td>\n",
       "      <td>0</td>\n",
       "      <td>0</td>\n",
       "      <td>...</td>\n",
       "      <td>0</td>\n",
       "      <td>0</td>\n",
       "      <td>0</td>\n",
       "      <td>0</td>\n",
       "      <td>1</td>\n",
       "      <td>0</td>\n",
       "      <td>0</td>\n",
       "      <td>0</td>\n",
       "      <td>0</td>\n",
       "      <td>0</td>\n",
       "    </tr>\n",
       "    <tr>\n",
       "      <th>1</th>\n",
       "      <td>6</td>\n",
       "      <td>1</td>\n",
       "      <td>0</td>\n",
       "      <td>0</td>\n",
       "      <td>0</td>\n",
       "      <td>0</td>\n",
       "      <td>0</td>\n",
       "      <td>0</td>\n",
       "      <td>0</td>\n",
       "      <td>0</td>\n",
       "      <td>...</td>\n",
       "      <td>0</td>\n",
       "      <td>0</td>\n",
       "      <td>1</td>\n",
       "      <td>1</td>\n",
       "      <td>0</td>\n",
       "      <td>0</td>\n",
       "      <td>0</td>\n",
       "      <td>0</td>\n",
       "      <td>0</td>\n",
       "      <td>0</td>\n",
       "    </tr>\n",
       "    <tr>\n",
       "      <th>2</th>\n",
       "      <td>21</td>\n",
       "      <td>0</td>\n",
       "      <td>0</td>\n",
       "      <td>0</td>\n",
       "      <td>1</td>\n",
       "      <td>0</td>\n",
       "      <td>0</td>\n",
       "      <td>0</td>\n",
       "      <td>0</td>\n",
       "      <td>0</td>\n",
       "      <td>...</td>\n",
       "      <td>0</td>\n",
       "      <td>0</td>\n",
       "      <td>1</td>\n",
       "      <td>0</td>\n",
       "      <td>0</td>\n",
       "      <td>0</td>\n",
       "      <td>1</td>\n",
       "      <td>0</td>\n",
       "      <td>0</td>\n",
       "      <td>0</td>\n",
       "    </tr>\n",
       "    <tr>\n",
       "      <th>3</th>\n",
       "      <td>0</td>\n",
       "      <td>0</td>\n",
       "      <td>0</td>\n",
       "      <td>1</td>\n",
       "      <td>0</td>\n",
       "      <td>0</td>\n",
       "      <td>0</td>\n",
       "      <td>0</td>\n",
       "      <td>0</td>\n",
       "      <td>0</td>\n",
       "      <td>...</td>\n",
       "      <td>0</td>\n",
       "      <td>0</td>\n",
       "      <td>0</td>\n",
       "      <td>0</td>\n",
       "      <td>0</td>\n",
       "      <td>1</td>\n",
       "      <td>0</td>\n",
       "      <td>0</td>\n",
       "      <td>0</td>\n",
       "      <td>0</td>\n",
       "    </tr>\n",
       "    <tr>\n",
       "      <th>4</th>\n",
       "      <td>8</td>\n",
       "      <td>0</td>\n",
       "      <td>0</td>\n",
       "      <td>1</td>\n",
       "      <td>0</td>\n",
       "      <td>0</td>\n",
       "      <td>0</td>\n",
       "      <td>0</td>\n",
       "      <td>0</td>\n",
       "      <td>0</td>\n",
       "      <td>...</td>\n",
       "      <td>0</td>\n",
       "      <td>0</td>\n",
       "      <td>0</td>\n",
       "      <td>0</td>\n",
       "      <td>1</td>\n",
       "      <td>0</td>\n",
       "      <td>0</td>\n",
       "      <td>0</td>\n",
       "      <td>0</td>\n",
       "      <td>0</td>\n",
       "    </tr>\n",
       "  </tbody>\n",
       "</table>\n",
       "<p>5 rows × 184 columns</p>\n",
       "</div>"
      ],
      "text/plain": [
       "   date_difference  Product_Bank account or service  Product_Consumer Loan  \\\n",
       "0                1                                0                      0   \n",
       "1                6                                1                      0   \n",
       "2               21                                0                      0   \n",
       "3                0                                0                      0   \n",
       "4                8                                0                      0   \n",
       "\n",
       "   Product_Credit card  Product_Credit reporting  Product_Debt collection  \\\n",
       "0                    1                         0                        0   \n",
       "1                    0                         0                        0   \n",
       "2                    0                         1                        0   \n",
       "3                    1                         0                        0   \n",
       "4                    1                         0                        0   \n",
       "\n",
       "   Product_Money transfers  Product_Mortgage  Product_Other financial service  \\\n",
       "0                        0                 0                                0   \n",
       "1                        0                 0                                0   \n",
       "2                        0                 0                                0   \n",
       "3                        0                 0                                0   \n",
       "4                        0                 0                                0   \n",
       "\n",
       "   Product_Payday loan  ...  Submitted via_Phone  Submitted via_Postal mail  \\\n",
       "0                    0  ...                    0                          0   \n",
       "1                    0  ...                    0                          0   \n",
       "2                    0  ...                    0                          0   \n",
       "3                    0  ...                    0                          0   \n",
       "4                    0  ...                    0                          0   \n",
       "\n",
       "   Submitted via_Referral  Company response to consumer_Closed  \\\n",
       "0                       0                                    0   \n",
       "1                       1                                    1   \n",
       "2                       1                                    0   \n",
       "3                       0                                    0   \n",
       "4                       0                                    0   \n",
       "\n",
       "   Company response to consumer_Closed with explanation  \\\n",
       "0                                                  1      \n",
       "1                                                  0      \n",
       "2                                                  0      \n",
       "3                                                  0      \n",
       "4                                                  1      \n",
       "\n",
       "   Company response to consumer_Closed with monetary relief  \\\n",
       "0                                                  0          \n",
       "1                                                  0          \n",
       "2                                                  0          \n",
       "3                                                  1          \n",
       "4                                                  0          \n",
       "\n",
       "   Company response to consumer_Closed with non-monetary relief  \\\n",
       "0                                                  0              \n",
       "1                                                  0              \n",
       "2                                                  1              \n",
       "3                                                  0              \n",
       "4                                                  0              \n",
       "\n",
       "   Company response to consumer_Closed with relief  \\\n",
       "0                                                0   \n",
       "1                                                0   \n",
       "2                                                0   \n",
       "3                                                0   \n",
       "4                                                0   \n",
       "\n",
       "   Company response to consumer_Closed without relief  Timely response?_No  \n",
       "0                                                  0                     0  \n",
       "1                                                  0                     0  \n",
       "2                                                  0                     0  \n",
       "3                                                  0                     0  \n",
       "4                                                  0                     0  \n",
       "\n",
       "[5 rows x 184 columns]"
      ]
     },
     "execution_count": 49,
     "metadata": {},
     "output_type": "execute_result"
    }
   ],
   "source": [
    "X_train.head()"
   ]
  },
  {
   "cell_type": "code",
   "execution_count": 52,
   "id": "90564a34-5a36-460d-9655-3c0fc28de090",
   "metadata": {},
   "outputs": [
    {
     "data": {
      "text/plain": [
       "(478421, 184)"
      ]
     },
     "execution_count": 52,
     "metadata": {},
     "output_type": "execute_result"
    }
   ],
   "source": [
    "X_train.shape"
   ]
  },
  {
   "cell_type": "markdown",
   "id": "62d103c0-0dc3-49b6-81f1-b3d9461915f1",
   "metadata": {},
   "source": [
    "### DATA PRE-PROCESSING FOR TESTING DATASET "
   ]
  },
  {
   "cell_type": "code",
   "execution_count": 55,
   "id": "bd26a18f-7c3e-47a2-9118-ab6794612cf4",
   "metadata": {},
   "outputs": [
    {
     "data": {
      "text/plain": [
       "Index(['Date received', 'Product', 'Sub-product', 'Issue', 'Sub-issue',\n",
       "       'Consumer complaint narrative', 'Company public response', 'Company',\n",
       "       'State', 'ZIP code', 'Tags', 'Consumer consent provided?',\n",
       "       'Submitted via', 'Date sent to company', 'Company response to consumer',\n",
       "       'Timely response?', 'Complaint ID'],\n",
       "      dtype='object')"
      ]
     },
     "execution_count": 55,
     "metadata": {},
     "output_type": "execute_result"
    }
   ],
   "source": [
    "data_test.columns"
   ]
  },
  {
   "cell_type": "code",
   "execution_count": 57,
   "id": "66079f45-c941-4b7b-b137-8035751ce9e4",
   "metadata": {},
   "outputs": [],
   "source": [
    "data_test['Date received']=pd.to_datetime(data_test['Date received'],infer_datetime_format=True)\n",
    "data_test['Date sent to company']=pd.to_datetime(data_test['Date sent to company'],infer_datetime_format=True)\n",
    "\n",
    "data_test['date_difference']=pd.to_numeric((data_test['Date sent to company']-data_test['Date received']).dt.days)"
   ]
  },
  {
   "cell_type": "code",
   "execution_count": 59,
   "id": "3487e88a-aef7-4179-8965-498475586078",
   "metadata": {},
   "outputs": [
    {
     "data": {
      "text/plain": [
       "0        -1\n",
       "1         0\n",
       "2         1\n",
       "3         5\n",
       "4         0\n",
       "         ..\n",
       "119601    6\n",
       "119602    0\n",
       "119603    3\n",
       "119604    1\n",
       "119605    0\n",
       "Name: date_difference, Length: 119606, dtype: int64"
      ]
     },
     "execution_count": 59,
     "metadata": {},
     "output_type": "execute_result"
    }
   ],
   "source": [
    "data_test['date_difference']"
   ]
  },
  {
   "cell_type": "code",
   "execution_count": 61,
   "id": "5415648f-1546-41e8-b7fb-2428fe780546",
   "metadata": {},
   "outputs": [
    {
     "data": {
      "text/plain": [
       "Index(['Date received', 'Product', 'Sub-product', 'Issue', 'Sub-issue',\n",
       "       'Consumer complaint narrative', 'Company public response', 'Company',\n",
       "       'State', 'ZIP code', 'Tags', 'Consumer consent provided?',\n",
       "       'Submitted via', 'Date sent to company', 'Company response to consumer',\n",
       "       'Timely response?', 'Complaint ID', 'date_difference'],\n",
       "      dtype='object')"
      ]
     },
     "execution_count": 61,
     "metadata": {},
     "output_type": "execute_result"
    }
   ],
   "source": [
    "data_test.columns"
   ]
  },
  {
   "cell_type": "code",
   "execution_count": 63,
   "id": "225e21b5-d034-400a-b1b2-3b830e6e9c29",
   "metadata": {},
   "outputs": [],
   "source": [
    "X_test= data_test.drop(['Date received','Sub-product','Sub-issue','Consumer complaint narrative',\n",
    "                   'Company public response', 'Company','ZIP code','Date sent to company', 'Complaint ID'],axis=1)"
   ]
  },
  {
   "cell_type": "code",
   "execution_count": 65,
   "id": "098f84b5-005a-4e64-a657-c5b3d83f69ea",
   "metadata": {},
   "outputs": [
    {
     "data": {
      "text/plain": [
       "Index(['Product', 'Issue', 'State', 'Tags', 'Consumer consent provided?',\n",
       "       'Submitted via', 'Company response to consumer', 'Timely response?',\n",
       "       'date_difference'],\n",
       "      dtype='object')"
      ]
     },
     "execution_count": 65,
     "metadata": {},
     "output_type": "execute_result"
    }
   ],
   "source": [
    "X_test.columns"
   ]
  },
  {
   "cell_type": "code",
   "execution_count": 67,
   "id": "3eecfc24-b7b9-47a8-957d-ffe6118c2e2d",
   "metadata": {},
   "outputs": [
    {
     "data": {
      "text/plain": [
       "Product                              0\n",
       "Issue                                0\n",
       "State                              925\n",
       "Tags                            102735\n",
       "Consumer consent provided?       85742\n",
       "Submitted via                        1\n",
       "Company response to consumer         0\n",
       "Timely response?                     0\n",
       "date_difference                      0\n",
       "dtype: int64"
      ]
     },
     "execution_count": 67,
     "metadata": {},
     "output_type": "execute_result"
    }
   ],
   "source": [
    "X_test.isnull().sum()"
   ]
  },
  {
   "cell_type": "code",
   "execution_count": 69,
   "id": "8198f5f3-553f-4677-b26c-05b2f27c0901",
   "metadata": {},
   "outputs": [],
   "source": [
    "col_test= [ 'State', 'Tags','Consumer consent provided?', \n",
    "            'Submitted via']\n",
    "\n",
    "for i in col_test:\n",
    "    if X_test[i].isnull().sum()!= 0:\n",
    "        X_test[i]=X_test[i].fillna(X_test[i].mode()[0])"
   ]
  },
  {
   "cell_type": "code",
   "execution_count": 71,
   "id": "020b8571-93a3-497d-ac8d-4e4a710a7b5f",
   "metadata": {},
   "outputs": [
    {
     "data": {
      "text/plain": [
       "Product                         0\n",
       "Issue                           0\n",
       "State                           0\n",
       "Tags                            0\n",
       "Consumer consent provided?      0\n",
       "Submitted via                   0\n",
       "Company response to consumer    0\n",
       "Timely response?                0\n",
       "date_difference                 0\n",
       "dtype: int64"
      ]
     },
     "execution_count": 71,
     "metadata": {},
     "output_type": "execute_result"
    }
   ],
   "source": [
    "X_test.isnull().sum()"
   ]
  },
  {
   "cell_type": "code",
   "execution_count": 73,
   "id": "8396d88a-b944-48bd-8def-f8ac51971c1b",
   "metadata": {},
   "outputs": [],
   "source": [
    "import pandas as pd\n",
    "\n",
    "col_test = ['Product', 'Issue', 'State', 'Tags', 'Consumer consent provided?', \n",
    "            'Submitted via', 'Company response to consumer', 'Timely response?']\n",
    "\n",
    "for i in col_test:\n",
    "    if i in X_test.columns:\n",
    "        dummy = pd.get_dummies(X_test[i], prefix=i).astype(int)\n",
    "        dummy = dummy.iloc[:,:-1]\n",
    "        X_test = pd.concat([X_test, dummy], axis=1)\n",
    "        X_test = X_test.drop(columns=[i])"
   ]
  },
  {
   "cell_type": "code",
   "execution_count": 75,
   "id": "055f2eb7-1254-4ff3-908e-d75fec6243b9",
   "metadata": {},
   "outputs": [
    {
     "data": {
      "text/html": [
       "<div>\n",
       "<style scoped>\n",
       "    .dataframe tbody tr th:only-of-type {\n",
       "        vertical-align: middle;\n",
       "    }\n",
       "\n",
       "    .dataframe tbody tr th {\n",
       "        vertical-align: top;\n",
       "    }\n",
       "\n",
       "    .dataframe thead th {\n",
       "        text-align: right;\n",
       "    }\n",
       "</style>\n",
       "<table border=\"1\" class=\"dataframe\">\n",
       "  <thead>\n",
       "    <tr style=\"text-align: right;\">\n",
       "      <th></th>\n",
       "      <th>date_difference</th>\n",
       "      <th>Product_Bank account or service</th>\n",
       "      <th>Product_Consumer Loan</th>\n",
       "      <th>Product_Credit card</th>\n",
       "      <th>Product_Credit reporting</th>\n",
       "      <th>Product_Debt collection</th>\n",
       "      <th>Product_Money transfers</th>\n",
       "      <th>Product_Mortgage</th>\n",
       "      <th>Product_Other financial service</th>\n",
       "      <th>Product_Payday loan</th>\n",
       "      <th>...</th>\n",
       "      <th>Submitted via_Phone</th>\n",
       "      <th>Submitted via_Postal mail</th>\n",
       "      <th>Submitted via_Referral</th>\n",
       "      <th>Company response to consumer_Closed</th>\n",
       "      <th>Company response to consumer_Closed with explanation</th>\n",
       "      <th>Company response to consumer_Closed with monetary relief</th>\n",
       "      <th>Company response to consumer_Closed with non-monetary relief</th>\n",
       "      <th>Company response to consumer_Closed with relief</th>\n",
       "      <th>Company response to consumer_Closed without relief</th>\n",
       "      <th>Timely response?_No</th>\n",
       "    </tr>\n",
       "  </thead>\n",
       "  <tbody>\n",
       "    <tr>\n",
       "      <th>0</th>\n",
       "      <td>-1</td>\n",
       "      <td>1</td>\n",
       "      <td>0</td>\n",
       "      <td>0</td>\n",
       "      <td>0</td>\n",
       "      <td>0</td>\n",
       "      <td>0</td>\n",
       "      <td>0</td>\n",
       "      <td>0</td>\n",
       "      <td>0</td>\n",
       "      <td>...</td>\n",
       "      <td>0</td>\n",
       "      <td>0</td>\n",
       "      <td>0</td>\n",
       "      <td>0</td>\n",
       "      <td>1</td>\n",
       "      <td>0</td>\n",
       "      <td>0</td>\n",
       "      <td>0</td>\n",
       "      <td>0</td>\n",
       "      <td>0</td>\n",
       "    </tr>\n",
       "    <tr>\n",
       "      <th>1</th>\n",
       "      <td>0</td>\n",
       "      <td>0</td>\n",
       "      <td>0</td>\n",
       "      <td>0</td>\n",
       "      <td>0</td>\n",
       "      <td>1</td>\n",
       "      <td>0</td>\n",
       "      <td>0</td>\n",
       "      <td>0</td>\n",
       "      <td>0</td>\n",
       "      <td>...</td>\n",
       "      <td>0</td>\n",
       "      <td>0</td>\n",
       "      <td>0</td>\n",
       "      <td>0</td>\n",
       "      <td>1</td>\n",
       "      <td>0</td>\n",
       "      <td>0</td>\n",
       "      <td>0</td>\n",
       "      <td>0</td>\n",
       "      <td>0</td>\n",
       "    </tr>\n",
       "    <tr>\n",
       "      <th>2</th>\n",
       "      <td>1</td>\n",
       "      <td>0</td>\n",
       "      <td>0</td>\n",
       "      <td>0</td>\n",
       "      <td>0</td>\n",
       "      <td>0</td>\n",
       "      <td>0</td>\n",
       "      <td>1</td>\n",
       "      <td>0</td>\n",
       "      <td>0</td>\n",
       "      <td>...</td>\n",
       "      <td>0</td>\n",
       "      <td>0</td>\n",
       "      <td>0</td>\n",
       "      <td>0</td>\n",
       "      <td>0</td>\n",
       "      <td>0</td>\n",
       "      <td>0</td>\n",
       "      <td>0</td>\n",
       "      <td>1</td>\n",
       "      <td>0</td>\n",
       "    </tr>\n",
       "    <tr>\n",
       "      <th>3</th>\n",
       "      <td>5</td>\n",
       "      <td>0</td>\n",
       "      <td>0</td>\n",
       "      <td>0</td>\n",
       "      <td>1</td>\n",
       "      <td>0</td>\n",
       "      <td>0</td>\n",
       "      <td>0</td>\n",
       "      <td>0</td>\n",
       "      <td>0</td>\n",
       "      <td>...</td>\n",
       "      <td>0</td>\n",
       "      <td>1</td>\n",
       "      <td>0</td>\n",
       "      <td>0</td>\n",
       "      <td>0</td>\n",
       "      <td>0</td>\n",
       "      <td>1</td>\n",
       "      <td>0</td>\n",
       "      <td>0</td>\n",
       "      <td>0</td>\n",
       "    </tr>\n",
       "    <tr>\n",
       "      <th>4</th>\n",
       "      <td>0</td>\n",
       "      <td>0</td>\n",
       "      <td>0</td>\n",
       "      <td>0</td>\n",
       "      <td>0</td>\n",
       "      <td>0</td>\n",
       "      <td>0</td>\n",
       "      <td>1</td>\n",
       "      <td>0</td>\n",
       "      <td>0</td>\n",
       "      <td>...</td>\n",
       "      <td>0</td>\n",
       "      <td>0</td>\n",
       "      <td>0</td>\n",
       "      <td>0</td>\n",
       "      <td>1</td>\n",
       "      <td>0</td>\n",
       "      <td>0</td>\n",
       "      <td>0</td>\n",
       "      <td>0</td>\n",
       "      <td>0</td>\n",
       "    </tr>\n",
       "  </tbody>\n",
       "</table>\n",
       "<p>5 rows × 183 columns</p>\n",
       "</div>"
      ],
      "text/plain": [
       "   date_difference  Product_Bank account or service  Product_Consumer Loan  \\\n",
       "0               -1                                1                      0   \n",
       "1                0                                0                      0   \n",
       "2                1                                0                      0   \n",
       "3                5                                0                      0   \n",
       "4                0                                0                      0   \n",
       "\n",
       "   Product_Credit card  Product_Credit reporting  Product_Debt collection  \\\n",
       "0                    0                         0                        0   \n",
       "1                    0                         0                        1   \n",
       "2                    0                         0                        0   \n",
       "3                    0                         1                        0   \n",
       "4                    0                         0                        0   \n",
       "\n",
       "   Product_Money transfers  Product_Mortgage  Product_Other financial service  \\\n",
       "0                        0                 0                                0   \n",
       "1                        0                 0                                0   \n",
       "2                        0                 1                                0   \n",
       "3                        0                 0                                0   \n",
       "4                        0                 1                                0   \n",
       "\n",
       "   Product_Payday loan  ...  Submitted via_Phone  Submitted via_Postal mail  \\\n",
       "0                    0  ...                    0                          0   \n",
       "1                    0  ...                    0                          0   \n",
       "2                    0  ...                    0                          0   \n",
       "3                    0  ...                    0                          1   \n",
       "4                    0  ...                    0                          0   \n",
       "\n",
       "   Submitted via_Referral  Company response to consumer_Closed  \\\n",
       "0                       0                                    0   \n",
       "1                       0                                    0   \n",
       "2                       0                                    0   \n",
       "3                       0                                    0   \n",
       "4                       0                                    0   \n",
       "\n",
       "   Company response to consumer_Closed with explanation  \\\n",
       "0                                                  1      \n",
       "1                                                  1      \n",
       "2                                                  0      \n",
       "3                                                  0      \n",
       "4                                                  1      \n",
       "\n",
       "   Company response to consumer_Closed with monetary relief  \\\n",
       "0                                                  0          \n",
       "1                                                  0          \n",
       "2                                                  0          \n",
       "3                                                  0          \n",
       "4                                                  0          \n",
       "\n",
       "   Company response to consumer_Closed with non-monetary relief  \\\n",
       "0                                                  0              \n",
       "1                                                  0              \n",
       "2                                                  0              \n",
       "3                                                  1              \n",
       "4                                                  0              \n",
       "\n",
       "   Company response to consumer_Closed with relief  \\\n",
       "0                                                0   \n",
       "1                                                0   \n",
       "2                                                0   \n",
       "3                                                0   \n",
       "4                                                0   \n",
       "\n",
       "   Company response to consumer_Closed without relief  Timely response?_No  \n",
       "0                                                  0                     0  \n",
       "1                                                  0                     0  \n",
       "2                                                  1                     0  \n",
       "3                                                  0                     0  \n",
       "4                                                  0                     0  \n",
       "\n",
       "[5 rows x 183 columns]"
      ]
     },
     "execution_count": 75,
     "metadata": {},
     "output_type": "execute_result"
    }
   ],
   "source": [
    "X_test.head()"
   ]
  },
  {
   "cell_type": "code",
   "execution_count": 77,
   "id": "9e470466-b7a2-4747-bf27-0e01e6a00b42",
   "metadata": {},
   "outputs": [
    {
     "data": {
      "text/plain": [
       "(119606, 183)"
      ]
     },
     "execution_count": 77,
     "metadata": {},
     "output_type": "execute_result"
    }
   ],
   "source": [
    "X_test.shape"
   ]
  },
  {
   "cell_type": "code",
   "execution_count": 79,
   "id": "11ceeb17-32de-4297-8306-4ebea72b9db5",
   "metadata": {},
   "outputs": [
    {
     "data": {
      "text/plain": [
       "(478421, 184)"
      ]
     },
     "execution_count": 79,
     "metadata": {},
     "output_type": "execute_result"
    }
   ],
   "source": [
    "X_train.shape"
   ]
  },
  {
   "cell_type": "markdown",
   "id": "6911999c-29dd-469c-9ac5-a70c13345d18",
   "metadata": {},
   "source": [
    "### FEATURE COLUMS OF X_train(INPUT DATAFRAME FOR TRAIN THE MODEL) AND X_test(INPUT DATAFRAME FOR TEST THE MODEL) MUST BE SAME"
   ]
  },
  {
   "cell_type": "code",
   "execution_count": 82,
   "id": "9e41ae09-485f-47ba-ba1d-dcd325560054",
   "metadata": {},
   "outputs": [],
   "source": [
    "import pandas as pd\n",
    "\n",
    "# Assuming X_train and X_test are your DataFrames\n",
    "common_column = X_train.columns.intersection(X_test.columns)"
   ]
  },
  {
   "cell_type": "code",
   "execution_count": 84,
   "id": "8d96c417-7ba3-4eda-bea9-83cb5444c336",
   "metadata": {},
   "outputs": [],
   "source": [
    "X_train= X_train[common_column]\n",
    "X_test= X_test[common_column]"
   ]
  },
  {
   "cell_type": "code",
   "execution_count": 86,
   "id": "3c0bfdac-a90c-4654-8f83-e2bce2432c0e",
   "metadata": {},
   "outputs": [
    {
     "data": {
      "text/plain": [
       "(478421, 183)"
      ]
     },
     "execution_count": 86,
     "metadata": {},
     "output_type": "execute_result"
    }
   ],
   "source": [
    "X_train.shape"
   ]
  },
  {
   "cell_type": "code",
   "execution_count": 88,
   "id": "2c70c960-c1f2-4bc5-9405-10b6e58b809b",
   "metadata": {},
   "outputs": [
    {
     "data": {
      "text/plain": [
       "(119606, 183)"
      ]
     },
     "execution_count": 88,
     "metadata": {},
     "output_type": "execute_result"
    }
   ],
   "source": [
    "X_test.shape"
   ]
  },
  {
   "cell_type": "code",
   "execution_count": 90,
   "id": "1e00dba3-222e-4039-854d-3d6a9c65ce5b",
   "metadata": {},
   "outputs": [
    {
     "data": {
      "text/plain": [
       "(478421,)"
      ]
     },
     "execution_count": 90,
     "metadata": {},
     "output_type": "execute_result"
    }
   ],
   "source": [
    "y_train.shape"
   ]
  },
  {
   "cell_type": "markdown",
   "id": "1603f563-c10f-49be-9523-4a36a00d6353",
   "metadata": {},
   "source": [
    "### DATA PRE-PROCESSING FOR ACTUAL VALUE"
   ]
  },
  {
   "cell_type": "code",
   "execution_count": 93,
   "id": "73e3110d-3ce6-4400-bc31-b1b3af5c7be7",
   "metadata": {},
   "outputs": [],
   "source": [
    "# EXPORTING THE VALUES TO A .csv FILE\n",
    "\n",
    "#true_value= pd.read_csv('Sample_Submission.csv')\n",
    "\n",
    "# Assuming you have predictions stored in a variable called 'predictions'\n",
    "predictions = np.random.randint(2, size=X_test.shape[0])  # Replace this with your actual predictions\n",
    "\n",
    "# Create a DataFrame for the submission\n",
    "submission = pd.DataFrame({\n",
    "    'Complaint ID': data_test['Complaint ID'],  # Assuming 'Complaint ID' is the unique identifier\n",
    "    'Target': predictions\n",
    "})\n",
    "\n",
    "# Export to CSV\n",
    "submission.to_csv('Sample_Submission.csv', index=False)\n"
   ]
  },
  {
   "cell_type": "code",
   "execution_count": 95,
   "id": "a32d9f85-9b40-4291-8151-cf49de0fc529",
   "metadata": {},
   "outputs": [
    {
     "name": "stdout",
     "output_type": "stream",
     "text": [
      "   Complaint ID  Target\n",
      "0        675956       1\n",
      "1       1858795       1\n",
      "2         32637       1\n",
      "3       1731374       0\n",
      "4        501487       0\n"
     ]
    }
   ],
   "source": [
    "true_value = pd.read_csv('Sample_Submission.csv')\n",
    "print(true_value.head())"
   ]
  },
  {
   "cell_type": "code",
   "execution_count": 97,
   "id": "0876e8ac-b302-443a-9b75-0d3b542a8c6f",
   "metadata": {},
   "outputs": [
    {
     "data": {
      "text/html": [
       "<div>\n",
       "<style scoped>\n",
       "    .dataframe tbody tr th:only-of-type {\n",
       "        vertical-align: middle;\n",
       "    }\n",
       "\n",
       "    .dataframe tbody tr th {\n",
       "        vertical-align: top;\n",
       "    }\n",
       "\n",
       "    .dataframe thead th {\n",
       "        text-align: right;\n",
       "    }\n",
       "</style>\n",
       "<table border=\"1\" class=\"dataframe\">\n",
       "  <thead>\n",
       "    <tr style=\"text-align: right;\">\n",
       "      <th></th>\n",
       "      <th>Complaint ID</th>\n",
       "      <th>Target</th>\n",
       "    </tr>\n",
       "  </thead>\n",
       "  <tbody>\n",
       "    <tr>\n",
       "      <th>0</th>\n",
       "      <td>675956</td>\n",
       "      <td>1</td>\n",
       "    </tr>\n",
       "    <tr>\n",
       "      <th>1</th>\n",
       "      <td>1858795</td>\n",
       "      <td>1</td>\n",
       "    </tr>\n",
       "    <tr>\n",
       "      <th>2</th>\n",
       "      <td>32637</td>\n",
       "      <td>1</td>\n",
       "    </tr>\n",
       "    <tr>\n",
       "      <th>3</th>\n",
       "      <td>1731374</td>\n",
       "      <td>0</td>\n",
       "    </tr>\n",
       "    <tr>\n",
       "      <th>4</th>\n",
       "      <td>501487</td>\n",
       "      <td>0</td>\n",
       "    </tr>\n",
       "  </tbody>\n",
       "</table>\n",
       "</div>"
      ],
      "text/plain": [
       "   Complaint ID  Target\n",
       "0        675956       1\n",
       "1       1858795       1\n",
       "2         32637       1\n",
       "3       1731374       0\n",
       "4        501487       0"
      ]
     },
     "execution_count": 97,
     "metadata": {},
     "output_type": "execute_result"
    }
   ],
   "source": [
    "true_value.head()"
   ]
  },
  {
   "cell_type": "code",
   "execution_count": 99,
   "id": "99080122-1526-49d7-ba43-541f40d96169",
   "metadata": {},
   "outputs": [
    {
     "data": {
      "text/plain": [
       "(119606, 2)"
      ]
     },
     "execution_count": 99,
     "metadata": {},
     "output_type": "execute_result"
    }
   ],
   "source": [
    "true_value.shape"
   ]
  },
  {
   "cell_type": "code",
   "execution_count": 101,
   "id": "60c18abb-5315-4719-bb51-11cfe483468b",
   "metadata": {},
   "outputs": [
    {
     "data": {
      "text/plain": [
       "Target\n",
       "0    59892\n",
       "1    59714\n",
       "Name: count, dtype: int64"
      ]
     },
     "execution_count": 101,
     "metadata": {},
     "output_type": "execute_result"
    }
   ],
   "source": [
    "# Correct code to get value counts for the 'Target' column\n",
    "true_value['Target'].value_counts()"
   ]
  },
  {
   "cell_type": "code",
   "execution_count": 103,
   "id": "5856c55e-07e3-4135-96ca-1dfd982a0514",
   "metadata": {},
   "outputs": [],
   "source": [
    "true_value.rename(columns={'Consumer disputed?':'Target'},inplace=True)"
   ]
  },
  {
   "cell_type": "code",
   "execution_count": 105,
   "id": "b6b8c903-e243-454d-810e-dfee69c26e7e",
   "metadata": {},
   "outputs": [],
   "source": [
    "le= LabelEncoder()\n",
    "true_value['Target']= le.fit_transform(true_value['Target'])"
   ]
  },
  {
   "cell_type": "code",
   "execution_count": 107,
   "id": "de0d84f7-af65-45b6-b36d-bd7c262e0507",
   "metadata": {},
   "outputs": [],
   "source": [
    "y_true= true_value['Target']"
   ]
  },
  {
   "cell_type": "code",
   "execution_count": 109,
   "id": "ce39a0f7-d105-45e3-9f12-66f3e35ddcb1",
   "metadata": {},
   "outputs": [
    {
     "data": {
      "text/plain": [
       "Target\n",
       "0    59892\n",
       "1    59714\n",
       "Name: count, dtype: int64"
      ]
     },
     "execution_count": 109,
     "metadata": {},
     "output_type": "execute_result"
    }
   ],
   "source": [
    "y_true.value_counts()"
   ]
  },
  {
   "cell_type": "code",
   "execution_count": 111,
   "id": "378bc76f-ec6f-44fc-befe-ea19c9331fc5",
   "metadata": {},
   "outputs": [
    {
     "data": {
      "text/plain": [
       "Target\n",
       "0    376990\n",
       "1    101431\n",
       "Name: count, dtype: int64"
      ]
     },
     "execution_count": 111,
     "metadata": {},
     "output_type": "execute_result"
    }
   ],
   "source": [
    "y_train.value_counts()"
   ]
  },
  {
   "cell_type": "markdown",
   "id": "71da1ac0-5191-4eef-a6d7-8849abf51d59",
   "metadata": {},
   "source": [
    "### APPLYING THE LOGISTIC REGRESSION"
   ]
  },
  {
   "cell_type": "code",
   "execution_count": 114,
   "id": "95a0f152-7de2-4a62-b97e-a38611f2a5fb",
   "metadata": {},
   "outputs": [
    {
     "name": "stdout",
     "output_type": "stream",
     "text": [
      "Trained model in 12.3640 seconds\n",
      "Made predictions in 0.1668 seconds.\n",
      "Train Accuracy 50.07%\n"
     ]
    }
   ],
   "source": [
    "from sklearn.linear_model import LogisticRegression\n",
    "from sklearn.metrics import accuracy_score\n",
    "from time import time\n",
    "\n",
    "# Align columns in X_test to match those in X_train\n",
    "X_test = X_test[X_train.columns]\n",
    "\n",
    "# Instantiate the model (using the default parameters)\n",
    "logreg = LogisticRegression()\n",
    "\n",
    "# fit the model with data\n",
    "start = time()\n",
    "logreg.fit(X_train,y_train)\n",
    "end = time()\n",
    "# Print the results\n",
    "print(\"Trained model in {:.4f} seconds\".format(end - start))\n",
    "\n",
    "# predict the response values for the observations in X_test\n",
    "start = time()\n",
    "y_predicted = logreg.predict(X_test)\n",
    "end = time()\n",
    "print(\"Made predictions in {:.4f} seconds.\".format(end - start))\n",
    "\n",
    "# compute classification accuracy for the logistic regression model\n",
    "print(\"Train Accuracy {:.2%}\".format(accuracy_score(y_true,y_predicted)))\n",
    "\n"
   ]
  },
  {
   "cell_type": "code",
   "execution_count": 116,
   "id": "554410ea-246c-4258-be21-d996197344e3",
   "metadata": {},
   "outputs": [
    {
     "name": "stdout",
     "output_type": "stream",
     "text": [
      "Classification Report\n",
      "              precision    recall  f1-score   support\n",
      "\n",
      "           0       0.50      1.00      0.67     59892\n",
      "           1       0.00      0.00      0.00     59714\n",
      "\n",
      "    accuracy                           0.50    119606\n",
      "   macro avg       0.25      0.50      0.33    119606\n",
      "weighted avg       0.25      0.50      0.33    119606\n",
      "\n",
      "Confusion matrix\n",
      "[[59892     0]\n",
      " [59714     0]]\n"
     ]
    }
   ],
   "source": [
    "from sklearn.metrics import confusion_matrix,classification_report\n",
    "\n",
    "print(\"Classification Report\")\n",
    "print (classification_report(y_true,y_predicted))\n",
    "\n",
    "print (\"Confusion matrix\")\n",
    "print (confusion_matrix(y_true,y_predicted))"
   ]
  },
  {
   "cell_type": "code",
   "execution_count": 118,
   "id": "e82bfd10-8f0b-4920-9586-3eb048c3efa3",
   "metadata": {},
   "outputs": [
    {
     "data": {
      "text/plain": [
       "array([0.29257563, 0.19762137, 0.33452934, ..., 0.2131433 , 0.20026144,\n",
       "       0.23369933])"
      ]
     },
     "execution_count": 118,
     "metadata": {},
     "output_type": "execute_result"
    }
   ],
   "source": [
    "y_pred_prob = logreg.predict_proba(X_test)[:, 1]\n",
    "y_pred_prob"
   ]
  },
  {
   "cell_type": "code",
   "execution_count": 120,
   "id": "9013be98-1e7a-4f89-bf13-eef9e2c94fac",
   "metadata": {},
   "outputs": [
    {
     "data": {
      "image/png": "[encoded data removed]",
      "text/plain": [
       "<Figure size 640x480 with 1 Axes>"
      ]
     },
     "metadata": {},
     "output_type": "display_data"
    },
    {
     "name": "stdout",
     "output_type": "stream",
     "text": [
      "KS Score: 0.0012466506429595903\n"
     ]
    }
   ],
   "source": [
    "from sklearn.metrics import roc_auc_score\n",
    "from sklearn.metrics import roc_curve\n",
    "logit_roc_auc = roc_auc_score(y_true,  y_pred_prob)\n",
    "fpr, tpr, thresholds = roc_curve(y_true, logreg.predict_proba(X_test)[:,1])\n",
    "plt.figure()\n",
    "plt.plot(fpr, tpr, label='Logistic Regression (area = %0.2f)' % logit_roc_auc)\n",
    "plt.plot([0, 1], [0, 1],'r--')\n",
    "plt.xlim([0.0, 1.0])\n",
    "plt.ylim([0.0, 1.05])\n",
    "plt.xlabel('False Positive Rate')\n",
    "plt.ylabel('True Positive Rate')\n",
    "plt.title('Receiver operating characteristic')\n",
    "plt.legend(loc=\"lower right\")\n",
    "plt.savefig('Log_ROC')\n",
    "plt.show()\n",
    "# Compute KS score (Kolmogorov-Smirnov Statistic)\n",
    "ks = max(tpr - fpr)\n",
    "print(\"KS Score:\", ks)\n"
   ]
  },
  {
   "cell_type": "code",
   "execution_count": 122,
   "id": "86a7bebc-8f43-45aa-be12-88fa74abf6f0",
   "metadata": {},
   "outputs": [
    {
     "name": "stdout",
     "output_type": "stream",
     "text": [
      "KS Score: 0.0012466506429595903\n"
     ]
    }
   ],
   "source": [
    "#Compute Area Under the Receiver Operating Characteristic Curve (ROC AUC) from prediction scores\n",
    "fpr, tpr, threshold = metrics.roc_curve(y_true,y_pred_prob)\n",
    "roc_auc = metrics.auc(fpr, tpr)\n",
    "roc_auc\n",
    "# Compute KS score (Kolmogorov-Smirnov Statistic)\n",
    "ks = max(tpr - fpr)\n",
    "print(\"KS Score:\", ks)\n"
   ]
  },
  {
   "cell_type": "markdown",
   "id": "a6176429-1264-457b-aa7d-934f7b59188e",
   "metadata": {},
   "source": [
    "### APPLYING XGBOOST"
   ]
  },
  {
   "cell_type": "code",
   "execution_count": 125,
   "id": "7df0a607-3b7b-472b-8e02-0db25de7c5d8",
   "metadata": {},
   "outputs": [
    {
     "name": "stdout",
     "output_type": "stream",
     "text": [
      "Trained model in 7.8129 seconds \n",
      "\n",
      "Made predictions in 0.2951 seconds. \n",
      "\n",
      "Train Accuracy 50.07% \n",
      "\n",
      "Classification Report: \n",
      "               precision    recall  f1-score   support\n",
      "\n",
      "           0       0.50      1.00      0.67     59892\n",
      "           1       0.47      0.00      0.00     59714\n",
      "\n",
      "    accuracy                           0.50    119606\n",
      "   macro avg       0.49      0.50      0.33    119606\n",
      "weighted avg       0.49      0.50      0.34    119606\n",
      " \n",
      "\n",
      "Confusion Matrix: \n",
      " [[59826    66]\n",
      " [59655    59]] \n",
      "\n",
      "ROC_AUC score:  0.49770199168452867\n",
      "KS Score: 0.00014626533183360445\n"
     ]
    }
   ],
   "source": [
    "from xgboost.sklearn import XGBClassifier\n",
    "\n",
    "xgb=XGBClassifier()\n",
    "start=time()\n",
    "xgb.fit(X_train,y_train)\n",
    "end=time()\n",
    "print(\"Trained model in {:.4f} seconds\".format(end - start),'\\n')\n",
    "\n",
    "# predict the response values for the observations in X_test\n",
    "start = time()\n",
    "y_predicted_xgb = xgb.predict(X_test)\n",
    "end = time()\n",
    "print(\"Made predictions in {:.4f} seconds.\".format(end - start),'\\n')\n",
    "\n",
    "#displaying accuracy score of the XGBOOST model\n",
    "print(\"Train Accuracy {:.2%}\".format(accuracy_score(y_true,y_predicted_xgb)),'\\n')\n",
    "\n",
    "#calculating probability of predicted values\n",
    "y_pred_prob_xgb = xgb.predict_proba(X_test)[:, 1]\n",
    "\n",
    "#Compute Receiver operating characteristic (ROC)\n",
    "fpr, tpr, threshold = metrics.roc_curve(y_true,y_pred_prob_xgb)\n",
    "\n",
    "#compute AUC ROC score\n",
    "roc_auc_xgb = metrics.auc(fpr, tpr)\n",
    "\n",
    "print ('Classification Report: \\n',classification_report(y_true,y_predicted_xgb),'\\n')\n",
    "\n",
    "print ('Confusion Matrix: \\n',confusion_matrix(y_true,y_predicted_xgb),'\\n')\n",
    "\n",
    "print('ROC_AUC score: ',roc_auc_xgb)\n",
    "# Compute KS score (Kolmogorov-Smirnov Statistic)\n",
    "ks = max(tpr - fpr)\n",
    "print(\"KS Score:\", ks)\n"
   ]
  },
  {
   "cell_type": "markdown",
   "id": "7aa91211-52b7-4d43-b010-116ec831800c",
   "metadata": {},
   "source": [
    "### DECISION TREE"
   ]
  },
  {
   "cell_type": "code",
   "execution_count": 128,
   "id": "55aab9f9-7f84-4a2f-9e9b-e7d27ed3f958",
   "metadata": {},
   "outputs": [
    {
     "name": "stdout",
     "output_type": "stream",
     "text": [
      "Trained model in 3.0682 seconds \n",
      "\n",
      "Made predictions in 0.2128 seconds. \n",
      "\n",
      "Train Accuracy 50.05% \n",
      "\n",
      "Classification Report: \n",
      "               precision    recall  f1-score   support\n",
      "\n",
      "           0       0.50      0.94      0.65     59892\n",
      "           1       0.50      0.06      0.10     59714\n",
      "\n",
      "    accuracy                           0.50    119606\n",
      "   macro avg       0.50      0.50      0.38    119606\n",
      "weighted avg       0.50      0.50      0.38    119606\n",
      " \n",
      "\n",
      "Confusion Matrix: \n",
      " [[56383  3509]\n",
      " [56232  3482]] \n",
      "\n",
      "ROC_AUC score:  0.4982410984433756\n",
      "KS Score: 0.0\n"
     ]
    }
   ],
   "source": [
    "from sklearn.tree import DecisionTreeClassifier\n",
    "\n",
    "\n",
    "dtree = DecisionTreeClassifier(max_features = 'sqrt')\n",
    "start=time()\n",
    "dtree.fit(X_train,y_train)\n",
    "end=time()\n",
    "print(\"Trained model in {:.4f} seconds\".format(end - start),'\\n')\n",
    "\n",
    "# predict the response values for the observations in X_test\n",
    "start = time()\n",
    "y_predicted_dt = dtree.predict(X_test)\n",
    "end = time()\n",
    "print(\"Made predictions in {:.4f} seconds.\".format(end - start),'\\n')\n",
    "\n",
    "\n",
    "from sklearn.metrics import accuracy_score\n",
    "print(\"Train Accuracy {:.2%}\".format(accuracy_score(y_true,y_predicted_dt)),'\\n')\n",
    "\n",
    "y_pred_prob_dt = dtree.predict_proba(X_test)[:, 1]\n",
    "fpr, tpr, threshold = metrics.roc_curve(y_true,y_pred_prob_dt)\n",
    "roc_auc_dt = metrics.auc(fpr, tpr)\n",
    "\n",
    "print ('Classification Report: \\n',classification_report(y_true,y_predicted_dt),'\\n')\n",
    "\n",
    "print ('Confusion Matrix: \\n',confusion_matrix(y_true,y_predicted_dt),'\\n')\n",
    "\n",
    "print('ROC_AUC score: ',roc_auc_dt)\n",
    "# Compute KS score (Kolmogorov-Smirnov Statistic)\n",
    "ks = max(tpr - fpr)\n",
    "print(\"KS Score:\", ks)\n"
   ]
  },
  {
   "cell_type": "markdown",
   "id": "419e1b76-5e29-4b68-b287-70bb85ac6122",
   "metadata": {},
   "source": [
    "### APPLYING SMOTE (Synthetic Minority Oversampling Technique)"
   ]
  },
  {
   "cell_type": "code",
   "execution_count": 133,
   "id": "807221c7-10e2-48f1-9e92-8faa009215a0",
   "metadata": {},
   "outputs": [
    {
     "name": "stdout",
     "output_type": "stream",
     "text": [
      "Model oversampling using SMOTE needs 223.8194 seconds \n",
      "\n",
      "Shape of y before  [376990 101431] \n",
      "\n",
      "Shape of y after applying SMOTE  [376990 376990]\n"
     ]
    }
   ],
   "source": [
    "from imblearn.over_sampling import SMOTE\n",
    "import numpy as np\n",
    "from time import time\n",
    "\n",
    "smt = SMOTE(random_state=121, sampling_strategy='auto')\n",
    "\n",
    "start = time()\n",
    "X_train_smote, y_train_smote = smt.fit_resample(X_train, y_train)\n",
    "end = time()\n",
    "\n",
    "print(\"Model oversampling using SMOTE needs {:.4f} seconds\".format(end - start), '\\n')\n",
    "print(\"Shape of y before \", np.bincount(y_train), '\\n')\n",
    "print(\"Shape of y after applying SMOTE \", np.bincount(y_train_smote))"
   ]
  },
  {
   "cell_type": "code",
   "execution_count": 135,
   "id": "0e3856b8-94bb-4bef-8508-f0277ddeda0f",
   "metadata": {},
   "outputs": [],
   "source": [
    "X_train_smote= pd.DataFrame(X_train_smote,columns=X_train.columns)"
   ]
  },
  {
   "cell_type": "code",
   "execution_count": 137,
   "id": "a8699067-acf7-4d4f-99fd-8db9366f3d25",
   "metadata": {},
   "outputs": [],
   "source": [
    "X_test= X_test.reindex(X_train_smote.columns,axis=1)"
   ]
  },
  {
   "cell_type": "markdown",
   "id": "33a5aee0-dd49-41c8-8df3-8f063eec15a7",
   "metadata": {},
   "source": [
    "### LOGISTIC REGRESSION AFTER APPLYING SMOTE "
   ]
  },
  {
   "cell_type": "code",
   "execution_count": 140,
   "id": "9128d57f-ec24-454b-ae55-7f57602fa2ff",
   "metadata": {},
   "outputs": [
    {
     "name": "stdout",
     "output_type": "stream",
     "text": [
      "Trained model in 18.2891 seconds\n"
     ]
    }
   ],
   "source": [
    "logreg = LogisticRegression()\n",
    "start=time()\n",
    "logreg.fit(X_train_smote,y_train_smote)\n",
    "end=time()\n",
    "print(\"Trained model in {:.4f} seconds\".format(end - start))"
   ]
  },
  {
   "cell_type": "code",
   "execution_count": 142,
   "id": "ce4b3adb-73ea-4614-942c-c0d44e13607c",
   "metadata": {},
   "outputs": [
    {
     "name": "stdout",
     "output_type": "stream",
     "text": [
      "Made predictions in 0.1633 seconds. \n",
      "\n",
      "Train Accuracy 49.90%\n"
     ]
    }
   ],
   "source": [
    "start = time()\n",
    "y_predicted_lr = logreg.predict(X_test)\n",
    "end = time()\n",
    "print(\"Made predictions in {:.4f} seconds.\".format(end - start),'\\n')\n",
    "\n",
    "print(\"Train Accuracy {:.2%}\".format(accuracy_score(y_true,y_predicted_lr)))"
   ]
  },
  {
   "cell_type": "code",
   "execution_count": 144,
   "id": "36249ee0-8f28-4b2c-86f1-5843859dc3f8",
   "metadata": {},
   "outputs": [
    {
     "name": "stdout",
     "output_type": "stream",
     "text": [
      "Classification Report \n",
      "\n",
      "              precision    recall  f1-score   support\n",
      "\n",
      "           0       0.50      0.61      0.55     59892\n",
      "           1       0.50      0.39      0.44     59714\n",
      "\n",
      "    accuracy                           0.50    119606\n",
      "   macro avg       0.50      0.50      0.49    119606\n",
      "weighted avg       0.50      0.50      0.49    119606\n",
      "\n",
      "Confusion matrix \n",
      "\n",
      "[[36409 23483]\n",
      " [36443 23271]]\n"
     ]
    }
   ],
   "source": [
    "from sklearn.metrics import confusion_matrix,classification_report\n",
    "print(\"Classification Report \\n\")\n",
    "print (classification_report(y_true,y_predicted_lr))\n",
    "print (\"Confusion matrix \\n\")\n",
    "print (confusion_matrix(y_true,y_predicted_lr))"
   ]
  },
  {
   "cell_type": "code",
   "execution_count": 146,
   "id": "28f91238-8860-4c53-a8be-4dfd9dba8e98",
   "metadata": {},
   "outputs": [
    {
     "data": {
      "image/png": "[encoded data removed]",
      "text/plain": [
       "<Figure size 640x480 with 1 Axes>"
      ]
     },
     "metadata": {},
     "output_type": "display_data"
    },
    {
     "name": "stdout",
     "output_type": "stream",
     "text": [
      "KS Score: 0.0009781341328594095\n"
     ]
    }
   ],
   "source": [
    "from sklearn.metrics import roc_auc_score\n",
    "from sklearn.metrics import roc_curve\n",
    "\n",
    "y_pred_prob_lr = logreg.predict_proba(X_test)[:, 1]\n",
    "logit_roc_auc = roc_auc_score(y_true, y_pred_prob_lr)\n",
    "fpr, tpr, thresholds = roc_curve(y_true, logreg.predict_proba(X_test)[:,1])\n",
    "plt.figure()\n",
    "plt.plot(fpr, tpr, label='Logistic Regression (area = %0.2f)' % logit_roc_auc)\n",
    "plt.plot([0, 1], [0, 1],'r--')\n",
    "plt.xlim([0.0, 1.0])\n",
    "plt.ylim([0.0, 1.05])\n",
    "plt.xlabel('False Positive Rate')\n",
    "plt.ylabel('True Positive Rate')\n",
    "plt.title('Receiver operating characteristic')\n",
    "plt.legend(loc=\"lower right\")\n",
    "plt.savefig('Log_ROC')\n",
    "plt.show()\n",
    "# Compute KS score (Kolmogorov-Smirnov Statistic)\n",
    "ks = max(tpr - fpr)\n",
    "print(\"KS Score:\", ks)\n"
   ]
  },
  {
   "cell_type": "code",
   "execution_count": 148,
   "id": "df206260-71ab-45f0-97ac-2922c482173d",
   "metadata": {},
   "outputs": [
    {
     "name": "stdout",
     "output_type": "stream",
     "text": [
      "ROC_AUC score: 0.5\n",
      "KS Score: 0.0009781341328594095\n"
     ]
    }
   ],
   "source": [
    "fpr, tpr, threshold = metrics.roc_curve(y_true,y_pred_prob_lr)\n",
    "roc_auc_lr = metrics.auc(fpr, tpr)\n",
    "print(\"ROC_AUC score: {:.2}\".format(roc_auc_lr))\n",
    "# Compute KS score (Kolmogorov-Smirnov Statistic)\n",
    "ks = max(tpr - fpr)\n",
    "print(\"KS Score:\", ks)\n"
   ]
  },
  {
   "cell_type": "markdown",
   "id": "a6c69a80-551e-44d0-8f76-5018f0dcfff3",
   "metadata": {},
   "source": [
    "### APPLYING XGBOOST AFTER APPLYING SMOTE"
   ]
  },
  {
   "cell_type": "code",
   "execution_count": 151,
   "id": "29d63b17-b169-412d-a0f8-69f07c440133",
   "metadata": {},
   "outputs": [
    {
     "name": "stdout",
     "output_type": "stream",
     "text": [
      "Trained model in 9.7121 seconds \n",
      "\n",
      "Made predictions in 0.2866 seconds. \n",
      "\n",
      "Train Accuracy 49.86% \n",
      "\n",
      "Classification Report: \n",
      "               precision    recall  f1-score   support\n",
      "\n",
      "           0       0.50      0.54      0.52     59892\n",
      "           1       0.50      0.45      0.47     59714\n",
      "\n",
      "    accuracy                           0.50    119606\n",
      "   macro avg       0.50      0.50      0.50    119606\n",
      "weighted avg       0.50      0.50      0.50    119606\n",
      " \n",
      "\n",
      "Confusion Matrix: \n",
      " [[32560 27332]\n",
      " [32636 27078]] \n",
      "\n",
      "ROC_AUC score:  0.4983706019049672\n",
      "KS Score: 0.0015581277814730732\n"
     ]
    }
   ],
   "source": [
    "from xgboost.sklearn import XGBClassifier\n",
    "\n",
    "xgb=XGBClassifier()\n",
    "start=time()\n",
    "xgb.fit(X_train_smote,y_train_smote)\n",
    "end=time()\n",
    "print(\"Trained model in {:.4f} seconds\".format(end - start),'\\n')\n",
    "\n",
    "# predict the response values for the observations in X_test\n",
    "start = time()\n",
    "y_predicted_xgboost = xgb.predict(X_test)\n",
    "end = time()\n",
    "print(\"Made predictions in {:.4f} seconds.\".format(end - start),'\\n')\n",
    "\n",
    "#displaying accuracy score of the XGBOOST model\n",
    "print(\"Train Accuracy {:.2%}\".format(accuracy_score(y_true,y_predicted_xgboost)),'\\n')\n",
    "\n",
    "#calculating probability of predicted values\n",
    "y_pred_prob_xgboost = xgb.predict_proba(X_test)[:, 1]\n",
    "\n",
    "#Compute Receiver operating characteristic (ROC)\n",
    "fpr, tpr, threshold = metrics.roc_curve(y_true,y_pred_prob_xgboost)\n",
    "\n",
    "#compute AUC ROC score\n",
    "roc_auc_xgboost = metrics.auc(fpr, tpr)\n",
    "\n",
    "print ('Classification Report: \\n',classification_report(y_true,y_predicted_xgboost),'\\n')\n",
    "\n",
    "print ('Confusion Matrix: \\n',confusion_matrix(y_true,y_predicted_xgboost),'\\n')\n",
    "\n",
    "print('ROC_AUC score: ',roc_auc_xgboost)\n",
    "# Compute KS score (Kolmogorov-Smirnov Statistic)\n",
    "ks = max(tpr - fpr)\n",
    "print(\"KS Score:\", ks)\n"
   ]
  },
  {
   "cell_type": "code",
   "execution_count": 160,
   "id": "242f2884",
   "metadata": {},
   "outputs": [
    {
     "name": "stdout",
     "output_type": "stream",
     "text": [
      "ROC AUC after feature selection: 0.4978233966186081\n",
      "KS Score after feature selection: 0.0017327496333784387\n"
     ]
    }
   ],
   "source": [
    "from sklearn.feature_selection import RFE\n",
    "\n",
    "# Using Recursive Feature Elimination (RFE) to select the best features\n",
    "logreg = LogisticRegression()\n",
    "selector = RFE(logreg, n_features_to_select=10, step=1)  # Selecting top 10 features\n",
    "selector = selector.fit(X_train, y_train)\n",
    "\n",
    "# Transform data with selected features\n",
    "X_train_selected = selector.transform(X_train)\n",
    "X_test_selected = selector.transform(X_test)\n",
    "\n",
    "# Fit logistic regression on selected features\n",
    "logreg.fit(X_train_selected, y_train)\n",
    "y_pred_prob_selected = logreg.predict_proba(X_test_selected)[:, 1]\n",
    "\n",
    "# Compute new AUC and KS score\n",
    "fpr, tpr, thresholds = metrics.roc_curve(y_true, y_pred_prob_selected)\n",
    "roc_auc_selected = metrics.auc(fpr, tpr)\n",
    "ks_selected = max(tpr - fpr)\n",
    "\n",
    "print(\"ROC AUC after feature selection:\", roc_auc_selected)\n",
    "print(\"KS Score after feature selection:\", ks_selected)"
   ]
  },
  {
   "cell_type": "code",
   "execution_count": 161,
   "id": "89c51a13",
   "metadata": {},
   "outputs": [
    {
     "name": "stdout",
     "output_type": "stream",
     "text": [
      "Best Logistic Regression Model: {'C': 0.1}\n",
      "ROC AUC after tuning: 0.49741379891358223\n",
      "KS Score after tuning: 0.0013846540143629404\n"
     ]
    }
   ],
   "source": [
    "from sklearn.model_selection import GridSearchCV\n",
    "\n",
    "# Hyperparameter tuning for Logistic Regression\n",
    "param_grid = {'C': [0.01, 0.1, 1, 10, 100]}  # Regularization strength\n",
    "grid = GridSearchCV(LogisticRegression(), param_grid, cv=5, scoring='roc_auc')\n",
    "grid.fit(X_train, y_train)\n",
    "\n",
    "# Best model\n",
    "best_logreg = grid.best_estimator_\n",
    "y_pred_prob_tuned = best_logreg.predict_proba(X_test)[:, 1]\n",
    "\n",
    "# Compute new AUC and KS score\n",
    "fpr, tpr, thresholds = metrics.roc_curve(y_true, y_pred_prob_tuned)\n",
    "roc_auc_tuned = metrics.auc(fpr, tpr)\n",
    "ks_tuned = max(tpr - fpr)\n",
    "\n",
    "print(\"Best Logistic Regression Model:\", grid.best_params_)\n",
    "print(\"ROC AUC after tuning:\", roc_auc_tuned)\n",
    "print(\"KS Score after tuning:\", ks_tuned)"
   ]
  },
  {
   "cell_type": "code",
   "execution_count": null,
   "id": "f4685e34-8b80-4d91-bc1e-3a6a85d6b6b4",
   "metadata": {},
   "outputs": [],
   "source": []
  }
 ],
 "metadata": {
  "kernelspec": {
   "display_name": "Python 3 (ipykernel)",
   "language": "python",
   "name": "python3"
  },
  "language_info": {
   "codemirror_mode": {
    "name": "ipython",
    "version": 3
   },
   "file_extension": ".py",
   "mimetype": "text/x-python",
   "name": "python",
   "nbconvert_exporter": "python",
   "pygments_lexer": "ipython3",
   "version": "3.12.4"
  }
 },
 "nbformat": 4,
 "nbformat_minor": 5
}
